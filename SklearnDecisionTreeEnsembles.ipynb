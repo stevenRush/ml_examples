{
 "cells": [
  {
   "cell_type": "code",
   "execution_count": 2,
   "metadata": {
    "collapsed": false
   },
   "outputs": [],
   "source": [
    "from sklearn.tree import DecisionTreeRegressor, DecisionTreeClassifier\n",
    "from sklearn.model_selection import cross_val_score\n",
    "from sklearn.base import BaseEstimator\n",
    "from sklearn.datasets import make_regression, make_classification\n",
    "\n",
    "import numpy as np\n",
    "import matplotlib.pyplot as plt\n",
    "%matplotlib inline"
   ]
  },
  {
   "cell_type": "code",
   "execution_count": 18,
   "metadata": {
    "collapsed": false
   },
   "outputs": [],
   "source": [
    "def bootstrap(X, y):\n",
    "    # YOUR CODE\n",
    "    return X, y\n",
    "\n",
    "def random_subspace_method(X, p=1.0):\n",
    "    # YOUR CODE\n",
    "    return X"
   ]
  },
  {
   "cell_type": "code",
   "execution_count": 19,
   "metadata": {
    "collapsed": false
   },
   "outputs": [],
   "source": [
    "X = np.arange(16).reshape(4, 4)\n",
    "y = np.arange(4)\n",
    "\n",
    "assert type(bootstrap(X, y)[0]) == np.ndarray, \"wrong return type of X\"\n",
    "assert type(bootstrap(X, y)[1]) == np.ndarray, \"wrong return type of y\"\n",
    "assert bootstrap(X, y)[0].shape == X.shape, \"wrong shape of X\"\n",
    "assert bootstrap(X, y)[1].shape == y.shape, \"wrong shape of y\"\n",
    "\n",
    "assert type(random_subspace_method(X)) == np.ndarray, \"wrong return type\"\n",
    "assert random_subspace_method(X).shape == X.shape, \"wrong size\"\n",
    "assert random_subspace_method(X, p=0.5).shape == (4, 2), \"wrong size\"\n",
    "assert np.all(np.unique(random_subspace_method(X)) == np.unique(X)), \"duplicating features (or smth even worse)\""
   ]
  },
  {
   "cell_type": "code",
   "execution_count": 5,
   "metadata": {
    "collapsed": true
   },
   "outputs": [],
   "source": [
    "class BrandNewRandomForestClassifier(BaseEstimator):\n",
    "    def __init__(self, num_iterations=100, max_depth=6):\n",
    "        self.num_iterations = num_iterations\n",
    "        self.max_depth = max_depth\n",
    "        \n",
    "    def fit(self, X, y):\n",
    "        self.estimators = []\n",
    "        for iter_num in range(self.num_iterations):\n",
    "            # BEGIN OF YOUR CODE\n",
    "            X_iter, y_iter = ...\n",
    "            \n",
    "            new_estimator = \n",
    "            new_estimator.fit(...)\n",
    "            \n",
    "            # END OF YOUR CODE\n",
    "            \n",
    "            self.estimators.append(new_estimator)\n",
    "            \n",
    "    def predict_proba(self, X):\n",
    "        probas = []\n",
    "        \n",
    "        for estimator in self.estimators:\n",
    "            probas.append(estimator.predict_proba(X))\n",
    "        \n",
    "        return np.dstack(probas).mean(axis=2)"
   ]
  },
  {
   "cell_type": "code",
   "execution_count": 6,
   "metadata": {
    "collapsed": false
   },
   "outputs": [
    {
     "data": {
      "text/plain": [
       "-7.9836255093201567"
      ]
     },
     "execution_count": 6,
     "metadata": {},
     "output_type": "execute_result"
    }
   ],
   "source": [
    "from sklearn.datasets import make_classification\n",
    "\n",
    "X, y = make_classification()\n",
    "np.mean(cross_val_score(DecisionTreeClassifier(max_depth=6), X, y, cv=3, scoring='neg_log_loss'))"
   ]
  },
  {
   "cell_type": "code",
   "execution_count": 7,
   "metadata": {
    "collapsed": false
   },
   "outputs": [
    {
     "data": {
      "text/plain": [
       "-0.7160349220995772"
      ]
     },
     "execution_count": 7,
     "metadata": {},
     "output_type": "execute_result"
    }
   ],
   "source": [
    "np.mean(cross_val_score(BrandNewRandomForestClassifier(max_depth=6), X, y, cv=3, scoring='neg_log_loss'))"
   ]
  },
  {
   "cell_type": "code",
   "execution_count": 8,
   "metadata": {
    "collapsed": false
   },
   "outputs": [
    {
     "data": {
      "image/png": "[encoded data removed]",
      "text/plain": [
       "<matplotlib.figure.Figure at 0x4febed0>"
      ]
     },
     "metadata": {},
     "output_type": "display_data"
    }
   ],
   "source": [
    "scores = []\n",
    "for iterations in [1] + range(5, 100, 10):\n",
    "    algo = BrandNewRandomForestClassifier(num_iterations=iterations)\n",
    "    scores.append(cross_val_score(algo, X, y, cv=3, scoring='neg_log_loss').mean())\n",
    "plt.plot(scores)\n",
    "_ = plt.xticks(range(10), [1] + range(5, 100, 10))"
   ]
  },
  {
   "cell_type": "code",
   "execution_count": 9,
   "metadata": {
    "collapsed": true
   },
   "outputs": [],
   "source": [
    "class SimpleGBRegressor(BaseEstimator):\n",
    "    def __init__(self, num_iterations=100, learning_rate=1e-1, max_depth=6):\n",
    "        self.num_iterations = num_iterations\n",
    "        self.learning_rate = learning_rate\n",
    "        self.max_depth = max_depth\n",
    "        \n",
    "    def fit(self, X, y):\n",
    "        self.estimators = []\n",
    "        curr_pred = np.zeros(y.shape)\n",
    "        for iter_num in range(self.num_iterations):\n",
    "            new_estimator = ...\n",
    "            \n",
    "            self.estimators.append(new_estimator)\n",
    "            curr_pred += ...\n",
    "    \n",
    "    def predict(self, X):\n",
    "        res = np.zeros(X.shape[0])\n",
    "        for estimator in self.estimators:\n",
    "            res += self.learning_rate * estimator.predict(X)\n",
    "        return res"
   ]
  },
  {
   "cell_type": "code",
   "execution_count": 11,
   "metadata": {
    "collapsed": false
   },
   "outputs": [
    {
     "data": {
      "text/plain": [
       "-19316.424787132051"
      ]
     },
     "execution_count": 11,
     "metadata": {},
     "output_type": "execute_result"
    }
   ],
   "source": [
    "X_data, y_data = make_regression(n_samples=1000, noise=100, n_features=10, random_state=42)\n",
    "np.mean(cross_val_score(DecisionTreeRegressor(max_depth=6), X_data, y_data, cv=3, scoring='neg_mean_squared_error'))"
   ]
  },
  {
   "cell_type": "code",
   "execution_count": 13,
   "metadata": {
    "collapsed": false,
    "scrolled": true
   },
   "outputs": [
    {
     "data": {
      "text/plain": [
       "-12328.002062387968"
      ]
     },
     "execution_count": 13,
     "metadata": {},
     "output_type": "execute_result"
    }
   ],
   "source": [
    "algo = SimpleGBRegressor(num_iterations=50, learning_rate = 0.1, max_depth=6)\n",
    "np.mean(cross_val_score(algo, X_data, y_data, cv=3, scoring='neg_mean_squared_error'))"
   ]
  },
  {
   "cell_type": "code",
   "execution_count": 15,
   "metadata": {
    "collapsed": false
   },
   "outputs": [
    {
     "data": {
      "text/plain": [
       "[<matplotlib.lines.Line2D at 0x555ea50>]"
      ]
     },
     "execution_count": 15,
     "metadata": {},
     "output_type": "execute_result"
    },
    {
     "data": {
      "image/png": "[encoded data removed]",
      "text/plain": [
       "<matplotlib.figure.Figure at 0x55955d0>"
      ]
     },
     "metadata": {},
     "output_type": "display_data"
    }
   ],
   "source": [
    "scores = []\n",
    "for iterations in range(30):\n",
    "    algo = SimpleGBRegressor(num_iterations=iterations, learning_rate=0.2)\n",
    "    scores.append(cross_val_score(algo, X_data, y_data, cv=3, scoring='neg_mean_squared_error').mean())\n",
    "plt.plot(scores)"
   ]
  }
 ],
 "metadata": {
  "kernelspec": {
   "display_name": "Python 2",
   "language": "python",
   "name": "python2"
  },
  "language_info": {
   "codemirror_mode": {
    "name": "ipython",
    "version": 2
   },
   "file_extension": ".py",
   "mimetype": "text/x-python",
   "name": "python",
   "nbconvert_exporter": "python",
   "pygments_lexer": "ipython2",
   "version": "2.7.3"
  }
 },
 "nbformat": 4,
 "nbformat_minor": 0
}
